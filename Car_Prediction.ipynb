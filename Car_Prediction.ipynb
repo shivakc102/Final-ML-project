{
 "cells": [
  {
   "cell_type": "markdown",
   "id": "14742f23",
   "metadata": {},
   "source": [
    "# Predict the price of a used car"
   ]
  },
  {
   "cell_type": "code",
   "execution_count": 295,
   "id": "be1fa3b3",
   "metadata": {},
   "outputs": [],
   "source": [
    "import pandas as pd"
   ]
  },
  {
   "cell_type": "code",
   "execution_count": 296,
   "id": "cf0fd481",
   "metadata": {},
   "outputs": [],
   "source": [
    "# read csv data\n",
    "df = pd.read_csv(\"Car details.csv\")"
   ]
  },
  {
   "cell_type": "code",
   "execution_count": 297,
   "id": "89c62c31",
   "metadata": {},
   "outputs": [
    {
     "data": {
      "text/html": [
       "<div>\n",
       "<style scoped>\n",
       "    .dataframe tbody tr th:only-of-type {\n",
       "        vertical-align: middle;\n",
       "    }\n",
       "\n",
       "    .dataframe tbody tr th {\n",
       "        vertical-align: top;\n",
       "    }\n",
       "\n",
       "    .dataframe thead th {\n",
       "        text-align: right;\n",
       "    }\n",
       "</style>\n",
       "<table border=\"1\" class=\"dataframe\">\n",
       "  <thead>\n",
       "    <tr style=\"text-align: right;\">\n",
       "      <th></th>\n",
       "      <th>name</th>\n",
       "      <th>year</th>\n",
       "      <th>selling_price</th>\n",
       "      <th>km_driven</th>\n",
       "      <th>fuel</th>\n",
       "      <th>seller_type</th>\n",
       "      <th>transmission</th>\n",
       "      <th>owner</th>\n",
       "      <th>mileage</th>\n",
       "      <th>engine</th>\n",
       "      <th>max_power</th>\n",
       "      <th>torque</th>\n",
       "      <th>seats</th>\n",
       "    </tr>\n",
       "  </thead>\n",
       "  <tbody>\n",
       "    <tr>\n",
       "      <th>0</th>\n",
       "      <td>Maruti Swift Dzire VDI</td>\n",
       "      <td>2014</td>\n",
       "      <td>450000</td>\n",
       "      <td>145500</td>\n",
       "      <td>Diesel</td>\n",
       "      <td>Individual</td>\n",
       "      <td>Manual</td>\n",
       "      <td>First Owner</td>\n",
       "      <td>23.4 kmpl</td>\n",
       "      <td>1248 CC</td>\n",
       "      <td>74 bhp</td>\n",
       "      <td>190Nm@ 2000rpm</td>\n",
       "      <td>5.0</td>\n",
       "    </tr>\n",
       "    <tr>\n",
       "      <th>1</th>\n",
       "      <td>Skoda Rapid 1.5 TDI Ambition</td>\n",
       "      <td>2014</td>\n",
       "      <td>370000</td>\n",
       "      <td>120000</td>\n",
       "      <td>Diesel</td>\n",
       "      <td>Individual</td>\n",
       "      <td>Manual</td>\n",
       "      <td>Second Owner</td>\n",
       "      <td>21.14 kmpl</td>\n",
       "      <td>1498 CC</td>\n",
       "      <td>103.52 bhp</td>\n",
       "      <td>250Nm@ 1500-2500rpm</td>\n",
       "      <td>5.0</td>\n",
       "    </tr>\n",
       "    <tr>\n",
       "      <th>2</th>\n",
       "      <td>Honda City 2017-2020 EXi</td>\n",
       "      <td>2006</td>\n",
       "      <td>158000</td>\n",
       "      <td>140000</td>\n",
       "      <td>Petrol</td>\n",
       "      <td>Individual</td>\n",
       "      <td>Manual</td>\n",
       "      <td>Third Owner</td>\n",
       "      <td>17.7 kmpl</td>\n",
       "      <td>1497 CC</td>\n",
       "      <td>78 bhp</td>\n",
       "      <td>12.7@ 2,700(kgm@ rpm)</td>\n",
       "      <td>5.0</td>\n",
       "    </tr>\n",
       "    <tr>\n",
       "      <th>3</th>\n",
       "      <td>Hyundai i20 Sportz Diesel</td>\n",
       "      <td>2010</td>\n",
       "      <td>225000</td>\n",
       "      <td>127000</td>\n",
       "      <td>Diesel</td>\n",
       "      <td>Individual</td>\n",
       "      <td>Manual</td>\n",
       "      <td>First Owner</td>\n",
       "      <td>23.0 kmpl</td>\n",
       "      <td>1396 CC</td>\n",
       "      <td>90 bhp</td>\n",
       "      <td>22.4 kgm at 1750-2750rpm</td>\n",
       "      <td>5.0</td>\n",
       "    </tr>\n",
       "    <tr>\n",
       "      <th>4</th>\n",
       "      <td>Maruti Swift VXI BSIII</td>\n",
       "      <td>2007</td>\n",
       "      <td>130000</td>\n",
       "      <td>120000</td>\n",
       "      <td>Petrol</td>\n",
       "      <td>Individual</td>\n",
       "      <td>Manual</td>\n",
       "      <td>First Owner</td>\n",
       "      <td>16.1 kmpl</td>\n",
       "      <td>1298 CC</td>\n",
       "      <td>88.2 bhp</td>\n",
       "      <td>11.5@ 4,500(kgm@ rpm)</td>\n",
       "      <td>5.0</td>\n",
       "    </tr>\n",
       "  </tbody>\n",
       "</table>\n",
       "</div>"
      ],
      "text/plain": [
       "                           name  year  selling_price  km_driven    fuel  \\\n",
       "0        Maruti Swift Dzire VDI  2014         450000     145500  Diesel   \n",
       "1  Skoda Rapid 1.5 TDI Ambition  2014         370000     120000  Diesel   \n",
       "2      Honda City 2017-2020 EXi  2006         158000     140000  Petrol   \n",
       "3     Hyundai i20 Sportz Diesel  2010         225000     127000  Diesel   \n",
       "4        Maruti Swift VXI BSIII  2007         130000     120000  Petrol   \n",
       "\n",
       "  seller_type transmission         owner     mileage   engine   max_power  \\\n",
       "0  Individual       Manual   First Owner   23.4 kmpl  1248 CC      74 bhp   \n",
       "1  Individual       Manual  Second Owner  21.14 kmpl  1498 CC  103.52 bhp   \n",
       "2  Individual       Manual   Third Owner   17.7 kmpl  1497 CC      78 bhp   \n",
       "3  Individual       Manual   First Owner   23.0 kmpl  1396 CC      90 bhp   \n",
       "4  Individual       Manual   First Owner   16.1 kmpl  1298 CC    88.2 bhp   \n",
       "\n",
       "                     torque  seats  \n",
       "0            190Nm@ 2000rpm    5.0  \n",
       "1       250Nm@ 1500-2500rpm    5.0  \n",
       "2     12.7@ 2,700(kgm@ rpm)    5.0  \n",
       "3  22.4 kgm at 1750-2750rpm    5.0  \n",
       "4     11.5@ 4,500(kgm@ rpm)    5.0  "
      ]
     },
     "execution_count": 297,
     "metadata": {},
     "output_type": "execute_result"
    }
   ],
   "source": [
    "df.head()"
   ]
  },
  {
   "cell_type": "code",
   "execution_count": 298,
   "id": "e1b995eb",
   "metadata": {},
   "outputs": [
    {
     "name": "stdout",
     "output_type": "stream",
     "text": [
      "<class 'pandas.core.frame.DataFrame'>\n",
      "RangeIndex: 8128 entries, 0 to 8127\n",
      "Data columns (total 13 columns):\n",
      " #   Column         Non-Null Count  Dtype  \n",
      "---  ------         --------------  -----  \n",
      " 0   name           8128 non-null   object \n",
      " 1   year           8128 non-null   int64  \n",
      " 2   selling_price  8128 non-null   int64  \n",
      " 3   km_driven      8128 non-null   int64  \n",
      " 4   fuel           8128 non-null   object \n",
      " 5   seller_type    8128 non-null   object \n",
      " 6   transmission   8128 non-null   object \n",
      " 7   owner          8128 non-null   object \n",
      " 8   mileage        7907 non-null   object \n",
      " 9   engine         7907 non-null   object \n",
      " 10  max_power      7913 non-null   object \n",
      " 11  torque         7906 non-null   object \n",
      " 12  seats          7907 non-null   float64\n",
      "dtypes: float64(1), int64(3), object(9)\n",
      "memory usage: 825.6+ KB\n"
     ]
    }
   ],
   "source": [
    "df.info()"
   ]
  },
  {
   "cell_type": "code",
   "execution_count": 299,
   "id": "a00c85b3",
   "metadata": {},
   "outputs": [
    {
     "data": {
      "text/plain": [
       "name               0\n",
       "year               0\n",
       "selling_price      0\n",
       "km_driven          0\n",
       "fuel               0\n",
       "seller_type        0\n",
       "transmission       0\n",
       "owner              0\n",
       "mileage          221\n",
       "engine           221\n",
       "max_power        215\n",
       "torque           222\n",
       "seats            221\n",
       "dtype: int64"
      ]
     },
     "execution_count": 299,
     "metadata": {},
     "output_type": "execute_result"
    }
   ],
   "source": [
    "df.isnull().sum()"
   ]
  },
  {
   "cell_type": "code",
   "execution_count": 300,
   "id": "20fd9ef3",
   "metadata": {},
   "outputs": [],
   "source": [
    "df.drop(df[df['torque'].isnull()].index, axis=0, inplace=True)"
   ]
  },
  {
   "cell_type": "code",
   "execution_count": 301,
   "id": "2390ccdf",
   "metadata": {},
   "outputs": [
    {
     "data": {
      "text/plain": [
       "name             0\n",
       "year             0\n",
       "selling_price    0\n",
       "km_driven        0\n",
       "fuel             0\n",
       "seller_type      0\n",
       "transmission     0\n",
       "owner            0\n",
       "mileage          0\n",
       "engine           0\n",
       "max_power        0\n",
       "torque           0\n",
       "seats            0\n",
       "dtype: int64"
      ]
     },
     "execution_count": 301,
     "metadata": {},
     "output_type": "execute_result"
    }
   ],
   "source": [
    "df.isnull().sum()"
   ]
  },
  {
   "cell_type": "code",
   "execution_count": 302,
   "id": "a9d10d8d",
   "metadata": {},
   "outputs": [
    {
     "data": {
      "text/html": [
       "<div>\n",
       "<style scoped>\n",
       "    .dataframe tbody tr th:only-of-type {\n",
       "        vertical-align: middle;\n",
       "    }\n",
       "\n",
       "    .dataframe tbody tr th {\n",
       "        vertical-align: top;\n",
       "    }\n",
       "\n",
       "    .dataframe thead th {\n",
       "        text-align: right;\n",
       "    }\n",
       "</style>\n",
       "<table border=\"1\" class=\"dataframe\">\n",
       "  <thead>\n",
       "    <tr style=\"text-align: right;\">\n",
       "      <th></th>\n",
       "      <th>name</th>\n",
       "      <th>year</th>\n",
       "      <th>selling_price</th>\n",
       "      <th>km_driven</th>\n",
       "      <th>fuel</th>\n",
       "      <th>seller_type</th>\n",
       "      <th>transmission</th>\n",
       "      <th>owner</th>\n",
       "      <th>mileage</th>\n",
       "      <th>engine</th>\n",
       "      <th>max_power</th>\n",
       "      <th>torque</th>\n",
       "      <th>seats</th>\n",
       "    </tr>\n",
       "  </thead>\n",
       "  <tbody>\n",
       "    <tr>\n",
       "      <th>0</th>\n",
       "      <td>Maruti Swift Dzire VDI</td>\n",
       "      <td>2014</td>\n",
       "      <td>450000</td>\n",
       "      <td>145500</td>\n",
       "      <td>Diesel</td>\n",
       "      <td>Individual</td>\n",
       "      <td>Manual</td>\n",
       "      <td>First Owner</td>\n",
       "      <td>23.4 kmpl</td>\n",
       "      <td>1248 CC</td>\n",
       "      <td>74 bhp</td>\n",
       "      <td>190Nm@ 2000rpm</td>\n",
       "      <td>5.0</td>\n",
       "    </tr>\n",
       "    <tr>\n",
       "      <th>1</th>\n",
       "      <td>Skoda Rapid 1.5 TDI Ambition</td>\n",
       "      <td>2014</td>\n",
       "      <td>370000</td>\n",
       "      <td>120000</td>\n",
       "      <td>Diesel</td>\n",
       "      <td>Individual</td>\n",
       "      <td>Manual</td>\n",
       "      <td>Second Owner</td>\n",
       "      <td>21.14 kmpl</td>\n",
       "      <td>1498 CC</td>\n",
       "      <td>103.52 bhp</td>\n",
       "      <td>250Nm@ 1500-2500rpm</td>\n",
       "      <td>5.0</td>\n",
       "    </tr>\n",
       "    <tr>\n",
       "      <th>2</th>\n",
       "      <td>Honda City 2017-2020 EXi</td>\n",
       "      <td>2006</td>\n",
       "      <td>158000</td>\n",
       "      <td>140000</td>\n",
       "      <td>Petrol</td>\n",
       "      <td>Individual</td>\n",
       "      <td>Manual</td>\n",
       "      <td>Third Owner</td>\n",
       "      <td>17.7 kmpl</td>\n",
       "      <td>1497 CC</td>\n",
       "      <td>78 bhp</td>\n",
       "      <td>12.7@ 2,700(kgm@ rpm)</td>\n",
       "      <td>5.0</td>\n",
       "    </tr>\n",
       "    <tr>\n",
       "      <th>3</th>\n",
       "      <td>Hyundai i20 Sportz Diesel</td>\n",
       "      <td>2010</td>\n",
       "      <td>225000</td>\n",
       "      <td>127000</td>\n",
       "      <td>Diesel</td>\n",
       "      <td>Individual</td>\n",
       "      <td>Manual</td>\n",
       "      <td>First Owner</td>\n",
       "      <td>23.0 kmpl</td>\n",
       "      <td>1396 CC</td>\n",
       "      <td>90 bhp</td>\n",
       "      <td>22.4 kgm at 1750-2750rpm</td>\n",
       "      <td>5.0</td>\n",
       "    </tr>\n",
       "    <tr>\n",
       "      <th>4</th>\n",
       "      <td>Maruti Swift VXI BSIII</td>\n",
       "      <td>2007</td>\n",
       "      <td>130000</td>\n",
       "      <td>120000</td>\n",
       "      <td>Petrol</td>\n",
       "      <td>Individual</td>\n",
       "      <td>Manual</td>\n",
       "      <td>First Owner</td>\n",
       "      <td>16.1 kmpl</td>\n",
       "      <td>1298 CC</td>\n",
       "      <td>88.2 bhp</td>\n",
       "      <td>11.5@ 4,500(kgm@ rpm)</td>\n",
       "      <td>5.0</td>\n",
       "    </tr>\n",
       "  </tbody>\n",
       "</table>\n",
       "</div>"
      ],
      "text/plain": [
       "                           name  year  selling_price  km_driven    fuel  \\\n",
       "0        Maruti Swift Dzire VDI  2014         450000     145500  Diesel   \n",
       "1  Skoda Rapid 1.5 TDI Ambition  2014         370000     120000  Diesel   \n",
       "2      Honda City 2017-2020 EXi  2006         158000     140000  Petrol   \n",
       "3     Hyundai i20 Sportz Diesel  2010         225000     127000  Diesel   \n",
       "4        Maruti Swift VXI BSIII  2007         130000     120000  Petrol   \n",
       "\n",
       "  seller_type transmission         owner     mileage   engine   max_power  \\\n",
       "0  Individual       Manual   First Owner   23.4 kmpl  1248 CC      74 bhp   \n",
       "1  Individual       Manual  Second Owner  21.14 kmpl  1498 CC  103.52 bhp   \n",
       "2  Individual       Manual   Third Owner   17.7 kmpl  1497 CC      78 bhp   \n",
       "3  Individual       Manual   First Owner   23.0 kmpl  1396 CC      90 bhp   \n",
       "4  Individual       Manual   First Owner   16.1 kmpl  1298 CC    88.2 bhp   \n",
       "\n",
       "                     torque  seats  \n",
       "0            190Nm@ 2000rpm    5.0  \n",
       "1       250Nm@ 1500-2500rpm    5.0  \n",
       "2     12.7@ 2,700(kgm@ rpm)    5.0  \n",
       "3  22.4 kgm at 1750-2750rpm    5.0  \n",
       "4     11.5@ 4,500(kgm@ rpm)    5.0  "
      ]
     },
     "execution_count": 302,
     "metadata": {},
     "output_type": "execute_result"
    }
   ],
   "source": [
    "df.head()"
   ]
  },
  {
   "cell_type": "code",
   "execution_count": 303,
   "id": "35f810da",
   "metadata": {},
   "outputs": [
    {
     "data": {
      "text/plain": [
       "Diesel    4299\n",
       "Petrol    3520\n",
       "CNG         52\n",
       "LPG         35\n",
       "Name: fuel, dtype: int64"
      ]
     },
     "execution_count": 303,
     "metadata": {},
     "output_type": "execute_result"
    }
   ],
   "source": [
    "df['fuel'].value_counts()"
   ]
  },
  {
   "cell_type": "code",
   "execution_count": 304,
   "id": "c91ec2e4",
   "metadata": {},
   "outputs": [
    {
     "data": {
      "text/plain": [
       "Individual          6563\n",
       "Dealer              1107\n",
       "Trustmark Dealer     236\n",
       "Name: seller_type, dtype: int64"
      ]
     },
     "execution_count": 304,
     "metadata": {},
     "output_type": "execute_result"
    }
   ],
   "source": [
    "df['seller_type'].value_counts()"
   ]
  },
  {
   "cell_type": "code",
   "execution_count": 305,
   "id": "0bb1229c",
   "metadata": {},
   "outputs": [
    {
     "data": {
      "text/plain": [
       "Manual       6865\n",
       "Automatic    1041\n",
       "Name: transmission, dtype: int64"
      ]
     },
     "execution_count": 305,
     "metadata": {},
     "output_type": "execute_result"
    }
   ],
   "source": [
    "df['transmission'].value_counts()"
   ]
  },
  {
   "cell_type": "code",
   "execution_count": 306,
   "id": "5b650b3d",
   "metadata": {},
   "outputs": [
    {
     "data": {
      "text/plain": [
       "First Owner             5215\n",
       "Second Owner            2016\n",
       "Third Owner              510\n",
       "Fourth & Above Owner     160\n",
       "Test Drive Car             5\n",
       "Name: owner, dtype: int64"
      ]
     },
     "execution_count": 306,
     "metadata": {},
     "output_type": "execute_result"
    }
   ],
   "source": [
    "df['owner'].value_counts()"
   ]
  },
  {
   "cell_type": "markdown",
   "id": "de74740f",
   "metadata": {},
   "source": [
    "#### Encoding the categorical column (fuel,seller_type,transmission,owner)"
   ]
  },
  {
   "cell_type": "code",
   "execution_count": 307,
   "id": "905dd1b4",
   "metadata": {},
   "outputs": [],
   "source": [
    "map_dict_fuel = {\"Diesel\":3, \"Petrol\":2, \"CNG\":1, \"LPG\":1}\n",
    "df['fuel']=df['fuel'].map(map_dict_fuel)"
   ]
  },
  {
   "cell_type": "code",
   "execution_count": 308,
   "id": "0e3a8a0e",
   "metadata": {},
   "outputs": [],
   "source": [
    "map_dict_seller = {\"Individual\":1, \"Dealer\":2, \"Trustmark Dealer\":3}\n",
    "df['seller_type']=df['seller_type'].map(map_dict_seller)"
   ]
  },
  {
   "cell_type": "code",
   "execution_count": 309,
   "id": "cb6e859c",
   "metadata": {},
   "outputs": [],
   "source": [
    "map_dict_trans = {\"Manual\":1, \"Automatic\":2}\n",
    "df['transmission']=df['transmission'].map(map_dict_trans)"
   ]
  },
  {
   "cell_type": "code",
   "execution_count": 310,
   "id": "1a409b01",
   "metadata": {},
   "outputs": [],
   "source": [
    "map_dict_owner = {\"First Owner\":4, \"Test Drive Car\":4,\"Second Owner\":3, \"Third Owner\":2, \"Fourth & Above Owner\":1}\n",
    "df['owner']=df['owner'].map(map_dict_owner)"
   ]
  },
  {
   "cell_type": "markdown",
   "id": "e0513bc4",
   "metadata": {},
   "source": [
    " seperating numerical values"
   ]
  },
  {
   "cell_type": "code",
   "execution_count": 311,
   "id": "f40e474d",
   "metadata": {},
   "outputs": [],
   "source": [
    "df['mileage'] = df['mileage'].str.split(\" \").str[0].astype('float')"
   ]
  },
  {
   "cell_type": "code",
   "execution_count": 312,
   "id": "1ede595c",
   "metadata": {},
   "outputs": [],
   "source": [
    "df['engine'] = df['engine'].str.split(\" \").str[0].astype('float')"
   ]
  },
  {
   "cell_type": "code",
   "execution_count": 313,
   "id": "eaaffa57",
   "metadata": {},
   "outputs": [],
   "source": [
    "df['max_power'] = df['max_power'].str.split(\" \").str[0].astype('float')"
   ]
  },
  {
   "cell_type": "code",
   "execution_count": 314,
   "id": "5f05b589",
   "metadata": {},
   "outputs": [],
   "source": [
    "df['seats'] = df['seats'].astype('int')"
   ]
  },
  {
   "cell_type": "code",
   "execution_count": 315,
   "id": "bd16b36a",
   "metadata": {},
   "outputs": [],
   "source": [
    "# drop torque beacause unit is confusing\n",
    "df.drop('torque',axis = 1 ,inplace=True)"
   ]
  },
  {
   "cell_type": "code",
   "execution_count": 316,
   "id": "5c9ad888",
   "metadata": {},
   "outputs": [
    {
     "data": {
      "text/html": [
       "<div>\n",
       "<style scoped>\n",
       "    .dataframe tbody tr th:only-of-type {\n",
       "        vertical-align: middle;\n",
       "    }\n",
       "\n",
       "    .dataframe tbody tr th {\n",
       "        vertical-align: top;\n",
       "    }\n",
       "\n",
       "    .dataframe thead th {\n",
       "        text-align: right;\n",
       "    }\n",
       "</style>\n",
       "<table border=\"1\" class=\"dataframe\">\n",
       "  <thead>\n",
       "    <tr style=\"text-align: right;\">\n",
       "      <th></th>\n",
       "      <th>name</th>\n",
       "      <th>year</th>\n",
       "      <th>selling_price</th>\n",
       "      <th>km_driven</th>\n",
       "      <th>fuel</th>\n",
       "      <th>seller_type</th>\n",
       "      <th>transmission</th>\n",
       "      <th>owner</th>\n",
       "      <th>mileage</th>\n",
       "      <th>engine</th>\n",
       "      <th>max_power</th>\n",
       "      <th>seats</th>\n",
       "    </tr>\n",
       "  </thead>\n",
       "  <tbody>\n",
       "    <tr>\n",
       "      <th>0</th>\n",
       "      <td>Maruti Swift Dzire VDI</td>\n",
       "      <td>2014</td>\n",
       "      <td>450000</td>\n",
       "      <td>145500</td>\n",
       "      <td>3</td>\n",
       "      <td>1</td>\n",
       "      <td>1</td>\n",
       "      <td>4</td>\n",
       "      <td>23.40</td>\n",
       "      <td>1248.0</td>\n",
       "      <td>74.00</td>\n",
       "      <td>5</td>\n",
       "    </tr>\n",
       "    <tr>\n",
       "      <th>1</th>\n",
       "      <td>Skoda Rapid 1.5 TDI Ambition</td>\n",
       "      <td>2014</td>\n",
       "      <td>370000</td>\n",
       "      <td>120000</td>\n",
       "      <td>3</td>\n",
       "      <td>1</td>\n",
       "      <td>1</td>\n",
       "      <td>3</td>\n",
       "      <td>21.14</td>\n",
       "      <td>1498.0</td>\n",
       "      <td>103.52</td>\n",
       "      <td>5</td>\n",
       "    </tr>\n",
       "    <tr>\n",
       "      <th>2</th>\n",
       "      <td>Honda City 2017-2020 EXi</td>\n",
       "      <td>2006</td>\n",
       "      <td>158000</td>\n",
       "      <td>140000</td>\n",
       "      <td>2</td>\n",
       "      <td>1</td>\n",
       "      <td>1</td>\n",
       "      <td>2</td>\n",
       "      <td>17.70</td>\n",
       "      <td>1497.0</td>\n",
       "      <td>78.00</td>\n",
       "      <td>5</td>\n",
       "    </tr>\n",
       "    <tr>\n",
       "      <th>3</th>\n",
       "      <td>Hyundai i20 Sportz Diesel</td>\n",
       "      <td>2010</td>\n",
       "      <td>225000</td>\n",
       "      <td>127000</td>\n",
       "      <td>3</td>\n",
       "      <td>1</td>\n",
       "      <td>1</td>\n",
       "      <td>4</td>\n",
       "      <td>23.00</td>\n",
       "      <td>1396.0</td>\n",
       "      <td>90.00</td>\n",
       "      <td>5</td>\n",
       "    </tr>\n",
       "    <tr>\n",
       "      <th>4</th>\n",
       "      <td>Maruti Swift VXI BSIII</td>\n",
       "      <td>2007</td>\n",
       "      <td>130000</td>\n",
       "      <td>120000</td>\n",
       "      <td>2</td>\n",
       "      <td>1</td>\n",
       "      <td>1</td>\n",
       "      <td>4</td>\n",
       "      <td>16.10</td>\n",
       "      <td>1298.0</td>\n",
       "      <td>88.20</td>\n",
       "      <td>5</td>\n",
       "    </tr>\n",
       "  </tbody>\n",
       "</table>\n",
       "</div>"
      ],
      "text/plain": [
       "                           name  year  selling_price  km_driven  fuel  \\\n",
       "0        Maruti Swift Dzire VDI  2014         450000     145500     3   \n",
       "1  Skoda Rapid 1.5 TDI Ambition  2014         370000     120000     3   \n",
       "2      Honda City 2017-2020 EXi  2006         158000     140000     2   \n",
       "3     Hyundai i20 Sportz Diesel  2010         225000     127000     3   \n",
       "4        Maruti Swift VXI BSIII  2007         130000     120000     2   \n",
       "\n",
       "   seller_type  transmission  owner  mileage  engine  max_power  seats  \n",
       "0            1             1      4    23.40  1248.0      74.00      5  \n",
       "1            1             1      3    21.14  1498.0     103.52      5  \n",
       "2            1             1      2    17.70  1497.0      78.00      5  \n",
       "3            1             1      4    23.00  1396.0      90.00      5  \n",
       "4            1             1      4    16.10  1298.0      88.20      5  "
      ]
     },
     "execution_count": 316,
     "metadata": {},
     "output_type": "execute_result"
    }
   ],
   "source": [
    "df.head()"
   ]
  },
  {
   "cell_type": "markdown",
   "id": "e1447c65",
   "metadata": {},
   "source": [
    "Encoading the name column"
   ]
  },
  {
   "cell_type": "code",
   "execution_count": 317,
   "id": "ac5726d8",
   "metadata": {},
   "outputs": [],
   "source": [
    "from sklearn.preprocessing import LabelEncoder\n",
    "le = LabelEncoder()\n",
    "df['name'] = le.fit_transform(df['name'])"
   ]
  },
  {
   "cell_type": "code",
   "execution_count": 318,
   "id": "e53b8b29",
   "metadata": {},
   "outputs": [
    {
     "data": {
      "text/html": [
       "<div>\n",
       "<style scoped>\n",
       "    .dataframe tbody tr th:only-of-type {\n",
       "        vertical-align: middle;\n",
       "    }\n",
       "\n",
       "    .dataframe tbody tr th {\n",
       "        vertical-align: top;\n",
       "    }\n",
       "\n",
       "    .dataframe thead th {\n",
       "        text-align: right;\n",
       "    }\n",
       "</style>\n",
       "<table border=\"1\" class=\"dataframe\">\n",
       "  <thead>\n",
       "    <tr style=\"text-align: right;\">\n",
       "      <th></th>\n",
       "      <th>name</th>\n",
       "      <th>year</th>\n",
       "      <th>selling_price</th>\n",
       "      <th>km_driven</th>\n",
       "      <th>fuel</th>\n",
       "      <th>seller_type</th>\n",
       "      <th>transmission</th>\n",
       "      <th>owner</th>\n",
       "      <th>mileage</th>\n",
       "      <th>engine</th>\n",
       "      <th>max_power</th>\n",
       "      <th>seats</th>\n",
       "    </tr>\n",
       "  </thead>\n",
       "  <tbody>\n",
       "    <tr>\n",
       "      <th>0</th>\n",
       "      <td>1249</td>\n",
       "      <td>2014</td>\n",
       "      <td>450000</td>\n",
       "      <td>145500</td>\n",
       "      <td>3</td>\n",
       "      <td>1</td>\n",
       "      <td>1</td>\n",
       "      <td>4</td>\n",
       "      <td>23.40</td>\n",
       "      <td>1248.0</td>\n",
       "      <td>74.00</td>\n",
       "      <td>5</td>\n",
       "    </tr>\n",
       "    <tr>\n",
       "      <th>1</th>\n",
       "      <td>1546</td>\n",
       "      <td>2014</td>\n",
       "      <td>370000</td>\n",
       "      <td>120000</td>\n",
       "      <td>3</td>\n",
       "      <td>1</td>\n",
       "      <td>1</td>\n",
       "      <td>3</td>\n",
       "      <td>21.14</td>\n",
       "      <td>1498.0</td>\n",
       "      <td>103.52</td>\n",
       "      <td>5</td>\n",
       "    </tr>\n",
       "    <tr>\n",
       "      <th>2</th>\n",
       "      <td>375</td>\n",
       "      <td>2006</td>\n",
       "      <td>158000</td>\n",
       "      <td>140000</td>\n",
       "      <td>2</td>\n",
       "      <td>1</td>\n",
       "      <td>1</td>\n",
       "      <td>2</td>\n",
       "      <td>17.70</td>\n",
       "      <td>1497.0</td>\n",
       "      <td>78.00</td>\n",
       "      <td>5</td>\n",
       "    </tr>\n",
       "    <tr>\n",
       "      <th>3</th>\n",
       "      <td>743</td>\n",
       "      <td>2010</td>\n",
       "      <td>225000</td>\n",
       "      <td>127000</td>\n",
       "      <td>3</td>\n",
       "      <td>1</td>\n",
       "      <td>1</td>\n",
       "      <td>4</td>\n",
       "      <td>23.00</td>\n",
       "      <td>1396.0</td>\n",
       "      <td>90.00</td>\n",
       "      <td>5</td>\n",
       "    </tr>\n",
       "    <tr>\n",
       "      <th>4</th>\n",
       "      <td>1290</td>\n",
       "      <td>2007</td>\n",
       "      <td>130000</td>\n",
       "      <td>120000</td>\n",
       "      <td>2</td>\n",
       "      <td>1</td>\n",
       "      <td>1</td>\n",
       "      <td>4</td>\n",
       "      <td>16.10</td>\n",
       "      <td>1298.0</td>\n",
       "      <td>88.20</td>\n",
       "      <td>5</td>\n",
       "    </tr>\n",
       "  </tbody>\n",
       "</table>\n",
       "</div>"
      ],
      "text/plain": [
       "   name  year  selling_price  km_driven  fuel  seller_type  transmission  \\\n",
       "0  1249  2014         450000     145500     3            1             1   \n",
       "1  1546  2014         370000     120000     3            1             1   \n",
       "2   375  2006         158000     140000     2            1             1   \n",
       "3   743  2010         225000     127000     3            1             1   \n",
       "4  1290  2007         130000     120000     2            1             1   \n",
       "\n",
       "   owner  mileage  engine  max_power  seats  \n",
       "0      4    23.40  1248.0      74.00      5  \n",
       "1      3    21.14  1498.0     103.52      5  \n",
       "2      2    17.70  1497.0      78.00      5  \n",
       "3      4    23.00  1396.0      90.00      5  \n",
       "4      4    16.10  1298.0      88.20      5  "
      ]
     },
     "execution_count": 318,
     "metadata": {},
     "output_type": "execute_result"
    }
   ],
   "source": [
    "df.head()"
   ]
  },
  {
   "cell_type": "markdown",
   "id": "ee1c3514",
   "metadata": {},
   "source": [
    "### Split the data"
   ]
  },
  {
   "cell_type": "code",
   "execution_count": 319,
   "id": "129992b4",
   "metadata": {},
   "outputs": [],
   "source": [
    "X = df.drop('selling_price', axis=1)\n",
    "y = df['selling_price']"
   ]
  },
  {
   "cell_type": "code",
   "execution_count": 320,
   "id": "cdf03627",
   "metadata": {},
   "outputs": [
    {
     "data": {
      "text/plain": [
       "((7906, 11), (7906,))"
      ]
     },
     "execution_count": 320,
     "metadata": {},
     "output_type": "execute_result"
    }
   ],
   "source": [
    "X.shape, y.shape"
   ]
  },
  {
   "cell_type": "code",
   "execution_count": 321,
   "id": "7f80d26b",
   "metadata": {},
   "outputs": [],
   "source": [
    "from sklearn.model_selection import train_test_split\n",
    "X_train, X_test, y_train, y_test = train_test_split(X, y, test_size=0.2, random_state=42)"
   ]
  },
  {
   "cell_type": "code",
   "execution_count": 322,
   "id": "ca2c98f8",
   "metadata": {},
   "outputs": [
    {
     "data": {
      "text/plain": [
       "((6324, 11), (1582, 11), (6324,), (1582,))"
      ]
     },
     "execution_count": 322,
     "metadata": {},
     "output_type": "execute_result"
    }
   ],
   "source": [
    "x_train.shape, x_eval.shape, y_train.shape, y_eval.shape"
   ]
  },
  {
   "cell_type": "markdown",
   "id": "c2fb7b81",
   "metadata": {},
   "source": [
    "### Linear Regresssion"
   ]
  },
  {
   "cell_type": "code",
   "execution_count": 323,
   "id": "7a043e01",
   "metadata": {},
   "outputs": [],
   "source": [
    "from sklearn.linear_model import LinearRegression, Lasso, Ridge\n",
    "from sklearn.metrics import mean_absolute_error, mean_squared_error, r2_score\n",
    "import numpy as np"
   ]
  },
  {
   "cell_type": "code",
   "execution_count": 324,
   "id": "1f1f4fd5",
   "metadata": {},
   "outputs": [],
   "source": [
    "lr = LinearRegression()\n",
    "lr.fit(X_train, y_train)\n",
    "y_pred_lr = model_lr.predict(X_test)"
   ]
  },
  {
   "cell_type": "markdown",
   "id": "130fa0cf",
   "metadata": {},
   "source": [
    "Metrics for linear regression"
   ]
  },
  {
   "cell_type": "code",
   "execution_count": 325,
   "id": "a256c04c",
   "metadata": {},
   "outputs": [
    {
     "data": {
      "text/plain": [
       "270961.38918697066"
      ]
     },
     "execution_count": 325,
     "metadata": {},
     "output_type": "execute_result"
    }
   ],
   "source": [
    "mean_absolute_error(y_test, y_pred_lr)"
   ]
  },
  {
   "cell_type": "code",
   "execution_count": 326,
   "id": "757d66f5",
   "metadata": {},
   "outputs": [
    {
     "data": {
      "text/plain": [
       "219655031689.90155"
      ]
     },
     "execution_count": 326,
     "metadata": {},
     "output_type": "execute_result"
    }
   ],
   "source": [
    "mean_squared_error(y_test, y_pred_lr)"
   ]
  },
  {
   "cell_type": "code",
   "execution_count": 327,
   "id": "de5745df",
   "metadata": {},
   "outputs": [
    {
     "data": {
      "text/plain": [
       "468673.69425849104"
      ]
     },
     "execution_count": 327,
     "metadata": {},
     "output_type": "execute_result"
    }
   ],
   "source": [
    "np.sqrt(mean_squared_error(y_test, y_pred_lr))"
   ]
  },
  {
   "cell_type": "code",
   "execution_count": 328,
   "id": "d312a822",
   "metadata": {},
   "outputs": [
    {
     "data": {
      "text/plain": [
       "0.684078254637906"
      ]
     },
     "execution_count": 328,
     "metadata": {},
     "output_type": "execute_result"
    }
   ],
   "source": [
    "r2_score(y_test, y_pred_lr)"
   ]
  },
  {
   "cell_type": "code",
   "execution_count": 329,
   "id": "2a2286f5",
   "metadata": {},
   "outputs": [
    {
     "data": {
      "text/plain": [
       "array([-3.91993438e+01,  3.13698127e+04, -1.05494708e+00,  4.69468318e+04,\n",
       "        8.33641489e+04,  4.65096419e+05,  2.20776820e+04,  1.49263293e+04,\n",
       "        9.55646063e+01,  1.30001578e+04, -4.13220858e+04])"
      ]
     },
     "execution_count": 329,
     "metadata": {},
     "output_type": "execute_result"
    }
   ],
   "source": [
    "model.coef_"
   ]
  },
  {
   "cell_type": "code",
   "execution_count": 330,
   "id": "7d356b90",
   "metadata": {},
   "outputs": [
    {
     "data": {
      "text/plain": [
       "Index(['name', 'year', 'km_driven', 'fuel', 'seller_type', 'transmission',\n",
       "       'owner', 'mileage', 'engine', 'max_power', 'seats'],\n",
       "      dtype='object')"
      ]
     },
     "execution_count": 330,
     "metadata": {},
     "output_type": "execute_result"
    }
   ],
   "source": [
    "x_train.columns"
   ]
  },
  {
   "cell_type": "code",
   "execution_count": 331,
   "id": "b7c94b1b",
   "metadata": {},
   "outputs": [
    {
     "data": {
      "image/png": "[encoded data removed]",
      "text/plain": [
       "<Figure size 640x480 with 1 Axes>"
      ]
     },
     "metadata": {},
     "output_type": "display_data"
    }
   ],
   "source": [
    "import matplotlib.pyplot as plt\n",
    "plt.bar(x = x_train.columns, height = lr.coef_)\n",
    "plt.xticks(rotation = 90)\n",
    "plt.show()"
   ]
  },
  {
   "cell_type": "markdown",
   "id": "38d1d02c",
   "metadata": {},
   "source": [
    "### lasso"
   ]
  },
  {
   "cell_type": "code",
   "execution_count": 332,
   "id": "f629bdfa",
   "metadata": {},
   "outputs": [],
   "source": [
    "lasso = Lasso(alpha=0.1)\n",
    "lasso.fit(X_train, y_train)\n",
    "y_pred_lasso = model_lasso.predict(X_test)"
   ]
  },
  {
   "cell_type": "markdown",
   "id": "c64fec37",
   "metadata": {},
   "source": [
    "Metrics for linear regression"
   ]
  },
  {
   "cell_type": "code",
   "execution_count": 333,
   "id": "c48a5752",
   "metadata": {},
   "outputs": [
    {
     "data": {
      "text/plain": [
       "270961.3620187199"
      ]
     },
     "execution_count": 333,
     "metadata": {},
     "output_type": "execute_result"
    }
   ],
   "source": [
    "mean_absolute_error(y_test, y_pred_lasso)"
   ]
  },
  {
   "cell_type": "code",
   "execution_count": 334,
   "id": "b9ce2a24",
   "metadata": {},
   "outputs": [
    {
     "data": {
      "text/plain": [
       "219655024261.08884"
      ]
     },
     "execution_count": 334,
     "metadata": {},
     "output_type": "execute_result"
    }
   ],
   "source": [
    "mean_squared_error(y_test, y_pred_lasso)"
   ]
  },
  {
   "cell_type": "code",
   "execution_count": 335,
   "id": "7cbd4b29",
   "metadata": {},
   "outputs": [
    {
     "data": {
      "text/plain": [
       "468673.68633313396"
      ]
     },
     "execution_count": 335,
     "metadata": {},
     "output_type": "execute_result"
    }
   ],
   "source": [
    "np.sqrt(mean_squared_error(y_test, y_pred_lasso))"
   ]
  },
  {
   "cell_type": "code",
   "execution_count": 336,
   "id": "6b96ff3e",
   "metadata": {},
   "outputs": [
    {
     "data": {
      "text/plain": [
       "0.6840782653224937"
      ]
     },
     "execution_count": 336,
     "metadata": {},
     "output_type": "execute_result"
    }
   ],
   "source": [
    "r2_score(y_test, y_pred_lasso)"
   ]
  },
  {
   "cell_type": "code",
   "execution_count": 337,
   "id": "54e16095",
   "metadata": {},
   "outputs": [
    {
     "data": {
      "text/plain": [
       "array([ -17.85623074,    0.        ,    0.22594446,    0.        ,\n",
       "          0.        ,    0.        ,   -0.        ,    0.        ,\n",
       "         -0.        , -107.83329876,    0.        ])"
      ]
     },
     "execution_count": 337,
     "metadata": {},
     "output_type": "execute_result"
    }
   ],
   "source": [
    "ls.coef_"
   ]
  },
  {
   "cell_type": "code",
   "execution_count": 338,
   "id": "37c0a063",
   "metadata": {},
   "outputs": [
    {
     "data": {
      "text/plain": [
       "Index(['name', 'year', 'km_driven', 'fuel', 'seller_type', 'transmission',\n",
       "       'owner', 'mileage', 'engine', 'max_power', 'seats'],\n",
       "      dtype='object')"
      ]
     },
     "execution_count": 338,
     "metadata": {},
     "output_type": "execute_result"
    }
   ],
   "source": [
    "x_train.columns"
   ]
  },
  {
   "cell_type": "code",
   "execution_count": 339,
   "id": "fd77bda6",
   "metadata": {},
   "outputs": [
    {
     "data": {
      "image/png": "[encoded data removed]",
      "text/plain": [
       "<Figure size 640x480 with 1 Axes>"
      ]
     },
     "metadata": {},
     "output_type": "display_data"
    }
   ],
   "source": [
    "plt.bar(x = x_train.columns, height = ls.coef_)\n",
    "plt.xticks(rotation = 90)\n",
    "plt.show()"
   ]
  },
  {
   "cell_type": "markdown",
   "id": "33e118d2",
   "metadata": {},
   "source": [
    "### Ridge"
   ]
  },
  {
   "cell_type": "code",
   "execution_count": 340,
   "id": "7b9148d5",
   "metadata": {},
   "outputs": [],
   "source": [
    "ridge = Ridge(alpha=1)\n",
    "ridge.fit(X_train, y_train)\n",
    "y_pred_ridge = model_ridge.predict(X_test)"
   ]
  },
  {
   "cell_type": "markdown",
   "id": "3e3cbab0",
   "metadata": {},
   "source": [
    "Metrics for linear regression"
   ]
  },
  {
   "cell_type": "code",
   "execution_count": 341,
   "id": "266ed1f4",
   "metadata": {},
   "outputs": [
    {
     "data": {
      "text/plain": [
       "270977.0547485853"
      ]
     },
     "execution_count": 341,
     "metadata": {},
     "output_type": "execute_result"
    }
   ],
   "source": [
    "mean_absolute_error(y_test, y_pred_ridge)"
   ]
  },
  {
   "cell_type": "code",
   "execution_count": 342,
   "id": "f230c039",
   "metadata": {},
   "outputs": [
    {
     "data": {
      "text/plain": [
       "219655099592.19083"
      ]
     },
     "execution_count": 342,
     "metadata": {},
     "output_type": "execute_result"
    }
   ],
   "source": [
    "mean_squared_error(y_test, y_pred_ridge)"
   ]
  },
  {
   "cell_type": "code",
   "execution_count": 343,
   "id": "e69eb177",
   "metadata": {},
   "outputs": [
    {
     "data": {
      "text/plain": [
       "468673.76669938635"
      ]
     },
     "execution_count": 343,
     "metadata": {},
     "output_type": "execute_result"
    }
   ],
   "source": [
    "np.sqrt(mean_squared_error(y_test, y_pred_ridge))"
   ]
  },
  {
   "cell_type": "code",
   "execution_count": 344,
   "id": "26458058",
   "metadata": {},
   "outputs": [
    {
     "data": {
      "text/plain": [
       "0.6840781569765432"
      ]
     },
     "execution_count": 344,
     "metadata": {},
     "output_type": "execute_result"
    }
   ],
   "source": [
    "r2_score(y_test, y_pred_ridge)"
   ]
  },
  {
   "cell_type": "code",
   "execution_count": 345,
   "id": "6ac8c7e8",
   "metadata": {},
   "outputs": [
    {
     "data": {
      "text/plain": [
       "array([-1.94309623e+01,  5.41877124e+02,  2.26492679e-01,  4.00163299e+02,\n",
       "        5.01746830e+01,  8.93987594e+01, -1.54106207e+02,  1.12892456e+03,\n",
       "        1.29954007e+01, -2.79421960e+02,  2.27355985e+02])"
      ]
     },
     "execution_count": 345,
     "metadata": {},
     "output_type": "execute_result"
    }
   ],
   "source": [
    "rg.coef_"
   ]
  },
  {
   "cell_type": "code",
   "execution_count": 346,
   "id": "0bd8b8a9",
   "metadata": {},
   "outputs": [
    {
     "data": {
      "text/plain": [
       "Index(['name', 'year', 'km_driven', 'fuel', 'seller_type', 'transmission',\n",
       "       'owner', 'mileage', 'engine', 'max_power', 'seats'],\n",
       "      dtype='object')"
      ]
     },
     "execution_count": 346,
     "metadata": {},
     "output_type": "execute_result"
    }
   ],
   "source": [
    "x_train.columns"
   ]
  },
  {
   "cell_type": "code",
   "execution_count": 347,
   "id": "231dba85",
   "metadata": {},
   "outputs": [
    {
     "data": {
      "image/png": "[encoded data removed]",
      "text/plain": [
       "<Figure size 640x480 with 1 Axes>"
      ]
     },
     "metadata": {},
     "output_type": "display_data"
    }
   ],
   "source": [
    "plt.bar(x = x_train.columns, height = rg.coef_)\n",
    "plt.xticks(rotation = 90)\n",
    "plt.show()"
   ]
  },
  {
   "cell_type": "markdown",
   "id": "44128b3f",
   "metadata": {},
   "source": [
    "## Decision Tree Regression"
   ]
  },
  {
   "cell_type": "code",
   "execution_count": 350,
   "id": "7074415f",
   "metadata": {},
   "outputs": [],
   "source": [
    "from sklearn.tree import DecisionTreeRegressor\n",
    "DTR=DecisionTreeRegressor(min_samples_leaf=3)\n",
    "model = DTR.fit(X_train,y_train)\n",
    "y_predict=DTR.predict(X_test)"
   ]
  },
  {
   "cell_type": "markdown",
   "id": "4d710c83",
   "metadata": {},
   "source": [
    "Metrics for linear regression"
   ]
  },
  {
   "cell_type": "code",
   "execution_count": 351,
   "id": "c3cdbb39",
   "metadata": {},
   "outputs": [
    {
     "data": {
      "text/plain": [
       "73974.96593157618"
      ]
     },
     "execution_count": 351,
     "metadata": {},
     "output_type": "execute_result"
    }
   ],
   "source": [
    "mean_absolute_error(y_test, y_predict)"
   ]
  },
  {
   "cell_type": "code",
   "execution_count": 352,
   "id": "f174efa5",
   "metadata": {},
   "outputs": [
    {
     "data": {
      "text/plain": [
       "20599113100.043076"
      ]
     },
     "execution_count": 352,
     "metadata": {},
     "output_type": "execute_result"
    }
   ],
   "source": [
    "mean_squared_error(y_test, y_predict)"
   ]
  },
  {
   "cell_type": "code",
   "execution_count": 353,
   "id": "825e634f",
   "metadata": {},
   "outputs": [
    {
     "data": {
      "text/plain": [
       "143523.9112484156"
      ]
     },
     "execution_count": 353,
     "metadata": {},
     "output_type": "execute_result"
    }
   ],
   "source": [
    "np.sqrt(mean_squared_error(y_test, y_predict))"
   ]
  },
  {
   "cell_type": "code",
   "execution_count": 354,
   "id": "69459570",
   "metadata": {},
   "outputs": [
    {
     "data": {
      "text/plain": [
       "0.9703730539955758"
      ]
     },
     "execution_count": 354,
     "metadata": {},
     "output_type": "execute_result"
    }
   ],
   "source": [
    "r2_score(y_test,y_predict)"
   ]
  },
  {
   "cell_type": "markdown",
   "id": "dbcfb3f8",
   "metadata": {},
   "source": [
    "## Random Forest Regression"
   ]
  },
  {
   "cell_type": "code",
   "execution_count": 356,
   "id": "f0961892",
   "metadata": {},
   "outputs": [],
   "source": [
    "from sklearn.ensemble import RandomForestRegressor\n",
    "RForest=RandomForestRegressor(n_estimators=500,random_state=329,min_samples_leaf=3)\n",
    "RForest.fit(X_train,y_train)\n",
    "y_predict=RForest.predict(X_test)"
   ]
  },
  {
   "cell_type": "code",
   "execution_count": 357,
   "id": "163a8083",
   "metadata": {},
   "outputs": [
    {
     "data": {
      "text/plain": [
       "62489.730540328455"
      ]
     },
     "execution_count": 357,
     "metadata": {},
     "output_type": "execute_result"
    }
   ],
   "source": [
    "mean_absolute_error(y_test, y_predict)"
   ]
  },
  {
   "cell_type": "code",
   "execution_count": 358,
   "id": "6a02288d",
   "metadata": {},
   "outputs": [
    {
     "data": {
      "text/plain": [
       "13733220928.176533"
      ]
     },
     "execution_count": 358,
     "metadata": {},
     "output_type": "execute_result"
    }
   ],
   "source": [
    "mean_squared_error(y_test, y_predict)"
   ]
  },
  {
   "cell_type": "code",
   "execution_count": 359,
   "id": "89d9ba35",
   "metadata": {},
   "outputs": [
    {
     "data": {
      "text/plain": [
       "117188.82595271843"
      ]
     },
     "execution_count": 359,
     "metadata": {},
     "output_type": "execute_result"
    }
   ],
   "source": [
    "np.sqrt(mean_squared_error(y_test, y_predict))"
   ]
  },
  {
   "cell_type": "code",
   "execution_count": 360,
   "id": "c85b3320",
   "metadata": {},
   "outputs": [
    {
     "data": {
      "text/plain": [
       "0.9802480139348785"
      ]
     },
     "execution_count": 360,
     "metadata": {},
     "output_type": "execute_result"
    }
   ],
   "source": [
    "r2_score(y_test,y_predict)"
   ]
  }
 ],
 "metadata": {
  "kernelspec": {
   "display_name": "Python 3 (ipykernel)",
   "language": "python",
   "name": "python3"
  },
  "language_info": {
   "codemirror_mode": {
    "name": "ipython",
    "version": 3
   },
   "file_extension": ".py",
   "mimetype": "text/x-python",
   "name": "python",
   "nbconvert_exporter": "python",
   "pygments_lexer": "ipython3",
   "version": "3.10.9"
  }
 },
 "nbformat": 4,
 "nbformat_minor": 5
}
